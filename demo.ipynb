{
 "cells": [
  {
   "cell_type": "markdown",
   "metadata": {},
   "source": [
    "## User Manual and Demo  \n",
    "This notebook serves to act both as a demo example and user manual.  \n",
    "Before beginning, ensure that the following python files are included with this notebook:\n",
    "* functions.py\n",
    "* MultiLayerNetwork.py\n",
    "\n",
    "All datasets should be placed under ./datasets/.\n",
    "\n",
    "Note that this notebook has been constructed from main.py and serves the same purpose (reconfigured for demonstration purposes). "
   ]
  },
  {
   "cell_type": "markdown",
   "metadata": {},
   "source": [
    "### Step 1: Import all libraries.  \n",
    "\n",
    "Note: Ensure that the running python environment has each library included."
   ]
  },
  {
   "cell_type": "code",
   "execution_count": null,
   "metadata": {},
   "outputs": [],
   "source": [
    "import numpy as np\n",
    "from MultiLayerNetwork import MLN\n",
    "from pathlib import Path\n",
    "import csv\n",
    "from functions import softmax\n",
    "from sklearn.preprocessing import OneHotEncoder"
   ]
  },
  {
   "cell_type": "markdown",
   "metadata": {},
   "source": [
    "### Step 2: Define Pre-processing input function  \n",
    "\n",
    "Note: For the sake of the demo, it is currently configured for MNIST.  \n",
    "Note: Dataset is packaged under ./datasets/MNIST/mnist.zip and should be extracted to ./datasets/ before continuing."
   ]
  },
  {
   "cell_type": "code",
   "execution_count": null,
   "metadata": {},
   "outputs": [],
   "source": [
    "def pre_process_data(train_x, train_y, test_x, test_y):\n",
    "    \"\"\"\n",
    "    Pre process MNIST data, may need to process other datasets differently\n",
    "    \"\"\"\n",
    "    train_x = train_x / 255.\n",
    "    test_x = test_x / 255.\n",
    " \n",
    "    enc = OneHotEncoder(sparse=False, categories='auto')\n",
    "    train_y = enc.fit_transform(train_y.reshape(len(train_y), -1))\n",
    " \n",
    "    test_y = enc.transform(test_y.reshape(len(test_y), -1))\n",
    " \n",
    "    return train_x, train_y, test_x, test_y"
   ]
  },
  {
   "cell_type": "markdown",
   "metadata": {},
   "source": [
    "### Step 3: Load data from dattasets for training"
   ]
  },
  {
   "cell_type": "code",
   "execution_count": null,
   "metadata": {},
   "outputs": [],
   "source": [
    "mnist_path = Path('./datasets/MNIST')\n",
    "with open(mnist_path / \"mnist_train.csv\", 'r') as file:\n",
    "    X_data = []\n",
    "    Y_data = []\n",
    "    for img in csv.reader(file):\n",
    "        Y_data.append(img[0])\n",
    "        X_data.append(img[1:])\n",
    "\n",
    "X_train = np.array(X_data, dtype=int)\n",
    "Y_train = np.array(Y_data, dtype=int)\n",
    "Y_train = Y_train.reshape((Y_train.shape[0], 1))"
   ]
  },
  {
   "cell_type": "markdown",
   "metadata": {},
   "source": [
    "### Step 4: Loads data from the datasets for testing."
   ]
  },
  {
   "cell_type": "code",
   "execution_count": null,
   "metadata": {},
   "outputs": [],
   "source": [
    "with open(mnist_path / \"mnist_test.csv\", 'r') as file:\n",
    "    X_data = []\n",
    "    Y_data = []\n",
    "    for img in csv.reader(file):\n",
    "        Y_data.append(img[0])\n",
    "        X_data.append(img[1:])\n",
    "\n",
    "X_test = np.array(X_data, dtype=int)\n",
    "Y_test = np.array(Y_data, dtype=int)"
   ]
  },
  {
   "cell_type": "markdown",
   "metadata": {},
   "source": [
    "### Step 5: Process data, assign layer dimensions, and set dropout probability."
   ]
  },
  {
   "cell_type": "code",
   "execution_count": null,
   "metadata": {},
   "outputs": [],
   "source": [
    "train_x, train_y, test_x, test_y = pre_process_data(X_train, Y_train, X_test, Y_test)\n",
    "\n",
    "layers_dims = [64, 32, 10] # Layer dimensions\n",
    "dropout_probs = [0.5, 0.5] # Chance to drop each node at Layer l. We exclude output layer from dropout."
   ]
  },
  {
   "cell_type": "markdown",
   "metadata": {},
   "source": [
    "### Step 6: Train model."
   ]
  },
  {
   "cell_type": "code",
   "execution_count": null,
   "metadata": {},
   "outputs": [],
   "source": [
    "mln = MLN(layers_dims, dropout_probs)\n",
    "mln.fit(train_x, train_y, learning_rate=0.1, n_iterations=1000)"
   ]
  },
  {
   "cell_type": "markdown",
   "metadata": {},
   "source": [
    "### Step 7: Output training and testing accuracy"
   ]
  },
  {
   "cell_type": "code",
   "execution_count": null,
   "metadata": {},
   "outputs": [],
   "source": [
    "print(\"Train Accuracy:\", mln.predict(train_x, train_y))\n",
    "print(\"Test Accuracy:\", mln.predict(test_x, test_y))"
   ]
  },
  {
   "cell_type": "markdown",
   "metadata": {},
   "source": [
    "### Step 8: Display plot"
   ]
  },
  {
   "cell_type": "code",
   "execution_count": null,
   "metadata": {},
   "outputs": [],
   "source": [
    "mln.plot_cost()"
   ]
  }
 ],
 "metadata": {
  "kernelspec": {
   "display_name": "Python 3",
   "language": "python",
   "name": "python3"
  },
  "language_info": {
   "codemirror_mode": {
    "name": "ipython",
    "version": 3
   },
   "file_extension": ".py",
   "mimetype": "text/x-python",
   "name": "python",
   "nbconvert_exporter": "python",
   "pygments_lexer": "ipython3",
   "version": "3.7.6"
  }
 },
 "nbformat": 4,
 "nbformat_minor": 4
}
