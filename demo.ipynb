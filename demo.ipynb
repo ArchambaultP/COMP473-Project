{
 "cells": [
  {
   "cell_type": "markdown",
   "metadata": {},
   "source": [
    "## User Manual and Demo  \n",
    "This notebook serves to act both as a demo example and user manual.  \n",
    "Before beginning, ensure that the following python files are included with this notebook:\n",
    "* functions.py\n",
    "* MultiLayerNetwork.py\n",
    "\n",
    "All datasets should be placed under ./datasets/.\n",
    "\n",
    "Note that this notebook has been constructed from main.py and serves the same purpose (reconfigured for demonstration purposes). \n",
    "\n",
    "\n",
    "To run the multilayer network with the MNIST dataset, use our \"Main\" branch (https://github.com/ArchambaultP/COMP473-Project/tree/main).\n",
    "\n",
    "To run the multilayer network with the IRIS dataset, use our \"IRIS\" branch (https://github.com/ArchambaultP/COMP473-Project/tree/IRIS).\n",
    "\n",
    "#### Note: For the sake of the demo, it is currently configured for the IRIS dataset."
   ]
  },
  {
   "cell_type": "markdown",
   "metadata": {},
   "source": [
    "### Step 1: Import all libraries.  \n",
    "\n",
    "Note: Ensure that the running python environment has each library included."
   ]
  },
  {
   "cell_type": "code",
   "execution_count": 1,
   "metadata": {},
   "outputs": [],
   "source": [
    "import numpy as np\n",
    "from MultiLayerNetwork import MLN\n",
    "from pathlib import Path\n",
    "import csv\n",
    "from functions import softmax\n",
    "from sklearn.preprocessing import OneHotEncoder\n",
    "from sklearn.model_selection import train_test_split"
   ]
  },
  {
   "cell_type": "markdown",
   "metadata": {},
   "source": [
    "### Step 2: Define Pre-processing input function  \n",
    "\n",
    "Note: The pre-processing function is defined differently for MNIST and IRIS. The IRIS dataset did not need to be preprocessed while for the MNIST dataset, train_x and test_x was divided by 255."
   ]
  },
  {
   "cell_type": "code",
   "execution_count": 2,
   "metadata": {},
   "outputs": [],
   "source": [
    "def pre_process_data(train_x, train_y, test_x, test_y):\n",
    "    \"\"\"\n",
    "    Pre process MNIST data, may need to process other datasets differently\n",
    "    \"\"\"\n",
    "    train_x = train_x\n",
    "    test_x = test_x\n",
    "    enc = OneHotEncoder(sparse=False, categories='auto')\n",
    "    train_y = enc.fit_transform(train_y.reshape(len(train_y), -1))\n",
    "\n",
    "    test_y = enc.transform(test_y.reshape(len(test_y), -1))\n",
    "\n",
    "    return train_x, train_y, test_x, test_y"
   ]
  },
  {
   "cell_type": "markdown",
   "metadata": {},
   "source": [
    "### Step 3: Load data from dataset(s) for training and testing.\n",
    "\n",
    "Note: To load the data from the IRIS dataset, extract the samples from the \"IRIS_train_test.csv\" file. It contains the samples for both the training and testing datasets. To define the the training and testing datasets, we split the samples from this file.\n",
    "\n",
    "Note: To access the datasets for MNIST, it is packaged under ./datasets/MNIST/mnist.zip and should therefore be extracted to ./datasets/ before continuing. There are already 2 separate files for the training and testing dataset. Therefore, splitting a dataset file is not required as the data can be directly loaded from their respective file."
   ]
  },
  {
   "cell_type": "code",
   "execution_count": 3,
   "metadata": {},
   "outputs": [],
   "source": [
    "iris_path = Path('datasets/IRIS')\n",
    "with open(iris_path / \"IRIS_train_test.csv\", 'r') as file:\n",
    "    X_data = []\n",
    "    Y_data = []\n",
    "    for img in csv.reader(file):\n",
    "        Y_data.append(img[5])\n",
    "        X_data.append(img[1:5])\n",
    "\n",
    "X_train_test = np.array(X_data, dtype=float)\n",
    "Y_train_test = np.array(Y_data, dtype=str)\n",
    "Y_train_test = Y_train_test.reshape((Y_train_test.shape[0], 1))\n",
    "X_train, X_test, Y_train, Y_test = train_test_split(X_train_test, Y_train_test, test_size=0.2, random_state=1)"
   ]
  },
  {
   "cell_type": "markdown",
   "metadata": {},
   "source": [
    "### Step 4: Process data, assign layer dimensions, and set dropout probability.\n",
    "\n",
    "Note: To run the code without applying dropout, simply set dropout_probs to [0, 0]."
   ]
  },
  {
   "cell_type": "code",
   "execution_count": 4,
   "metadata": {},
   "outputs": [],
   "source": [
    "train_x, train_y, test_x, test_y = pre_process_data(X_train, Y_train, X_test, Y_test)\n",
    "\n",
    "layers_dims = [64, 32, 3]  # Layer dimensions\n",
    "dropout_probs = [0.5, 0.5]  # Chance to drop each node at Layer l. We exclude output layer from dropout."
   ]
  },
  {
   "cell_type": "markdown",
   "metadata": {},
   "source": [
    "### Step 5: Train the model"
   ]
  },
  {
   "cell_type": "code",
   "execution_count": 5,
   "metadata": {},
   "outputs": [
    {
     "name": "stdout",
     "output_type": "stream",
     "text": [
      "Cost:  0.4675676192830154 Train Accuracy: 35.833333333333336\n",
      "Cost:  0.34591052674499456 Train Accuracy: 46.666666666666664\n",
      "Cost:  0.2735587925467922 Train Accuracy: 63.33333333333333\n",
      "Cost:  0.22855878144134595 Train Accuracy: 67.5\n",
      "Cost:  0.192207657982693 Train Accuracy: 73.33333333333333\n",
      "Cost:  0.16000058316051 Train Accuracy: 74.16666666666667\n",
      "Cost:  0.1629751346375648 Train Accuracy: 80.0\n",
      "Cost:  0.15153060169649993 Train Accuracy: 85.0\n",
      "Cost:  0.1373319788507999 Train Accuracy: 83.33333333333334\n",
      "Cost:  0.11163066324097942 Train Accuracy: 84.16666666666667\n",
      "Cost:  0.10905793713056712 Train Accuracy: 85.83333333333333\n",
      "Cost:  0.111515167682007 Train Accuracy: 86.66666666666667\n",
      "Cost:  0.10454091916550759 Train Accuracy: 90.83333333333333\n",
      "Cost:  0.10666028562526608 Train Accuracy: 90.0\n",
      "Cost:  0.09686999919031572 Train Accuracy: 82.5\n",
      "Cost:  0.08874732198633187 Train Accuracy: 87.5\n",
      "Cost:  0.09277289875675288 Train Accuracy: 92.5\n",
      "Cost:  0.08629524956588007 Train Accuracy: 87.5\n",
      "Cost:  0.06391595843024397 Train Accuracy: 91.66666666666666\n",
      "Cost:  0.09889029043011936 Train Accuracy: 88.33333333333333\n",
      "Cost:  0.09759169916649925 Train Accuracy: 90.83333333333333\n",
      "Cost:  0.10066333077874148 Train Accuracy: 86.66666666666667\n",
      "Cost:  0.07330471867068195 Train Accuracy: 92.5\n",
      "Cost:  0.09885005660044226 Train Accuracy: 88.33333333333333\n",
      "Cost:  0.054643682303808824 Train Accuracy: 90.83333333333333\n",
      "Cost:  0.08372605756423514 Train Accuracy: 95.0\n",
      "Cost:  0.07872898098734739 Train Accuracy: 96.66666666666667\n",
      "Cost:  0.06804341673231587 Train Accuracy: 93.33333333333333\n",
      "Cost:  0.07516187116544071 Train Accuracy: 89.16666666666667\n",
      "Cost:  0.05497918260383732 Train Accuracy: 94.16666666666667\n",
      "Cost:  0.05273101912955903 Train Accuracy: 91.66666666666666\n",
      "Cost:  0.07507757121462265 Train Accuracy: 94.16666666666667\n",
      "Cost:  0.06242921405562014 Train Accuracy: 90.83333333333333\n",
      "Cost:  0.05617546119964523 Train Accuracy: 94.16666666666667\n",
      "Cost:  0.05869433469784313 Train Accuracy: 94.16666666666667\n",
      "Cost:  0.06591014614435195 Train Accuracy: 90.83333333333333\n",
      "Cost:  0.056386922573368754 Train Accuracy: 91.66666666666666\n",
      "Cost:  0.06093704993431025 Train Accuracy: 95.0\n",
      "Cost:  0.07392858015252908 Train Accuracy: 95.83333333333334\n",
      "Cost:  0.059539222141392185 Train Accuracy: 93.33333333333333\n",
      "Cost:  0.06278773446442981 Train Accuracy: 95.83333333333334\n",
      "Cost:  0.053555890859723516 Train Accuracy: 89.16666666666667\n",
      "Cost:  0.05054036419799393 Train Accuracy: 90.0\n",
      "Cost:  0.04680393212812805 Train Accuracy: 93.33333333333333\n",
      "Cost:  0.0460887802832702 Train Accuracy: 94.16666666666667\n",
      "Cost:  0.0782754311362127 Train Accuracy: 92.5\n",
      "Cost:  0.07099966950983884 Train Accuracy: 93.33333333333333\n",
      "Cost:  0.06469232017367856 Train Accuracy: 94.16666666666667\n",
      "Cost:  0.06095786420142439 Train Accuracy: 95.0\n",
      "Cost:  0.07530069945806657 Train Accuracy: 96.66666666666667\n",
      "Cost:  0.04735646528377742 Train Accuracy: 91.66666666666666\n",
      "Cost:  0.05537215134889033 Train Accuracy: 92.5\n",
      "Cost:  0.06006816080987248 Train Accuracy: 95.83333333333334\n",
      "Cost:  0.0647130643434771 Train Accuracy: 92.5\n",
      "Cost:  0.04985074642273762 Train Accuracy: 95.83333333333334\n",
      "Cost:  0.046463989143257285 Train Accuracy: 93.33333333333333\n",
      "Cost:  0.04107199044647101 Train Accuracy: 96.66666666666667\n",
      "Cost:  0.061683730038438425 Train Accuracy: 94.16666666666667\n",
      "Cost:  0.046140068304797735 Train Accuracy: 95.83333333333334\n",
      "Cost:  0.04919145892360682 Train Accuracy: 94.16666666666667\n",
      "Cost:  0.04057780184858084 Train Accuracy: 93.33333333333333\n",
      "Cost:  0.04648659566734683 Train Accuracy: 94.16666666666667\n",
      "Cost:  0.036221525136973035 Train Accuracy: 96.66666666666667\n",
      "Cost:  0.05064560452865627 Train Accuracy: 92.5\n",
      "Cost:  0.0649408728618926 Train Accuracy: 95.83333333333334\n",
      "Cost:  0.04854691908918572 Train Accuracy: 94.16666666666667\n",
      "Cost:  0.046126966211930735 Train Accuracy: 95.0\n",
      "Cost:  0.051815683558772085 Train Accuracy: 95.0\n",
      "Cost:  0.057725183338293524 Train Accuracy: 95.83333333333334\n",
      "Cost:  0.04937015198218003 Train Accuracy: 94.16666666666667\n",
      "Cost:  0.044655137075238174 Train Accuracy: 95.0\n",
      "Cost:  0.04755524997570759 Train Accuracy: 96.66666666666667\n",
      "Cost:  0.04450263440234657 Train Accuracy: 95.83333333333334\n",
      "Cost:  0.04442689040194377 Train Accuracy: 93.33333333333333\n",
      "Cost:  0.06330481491245421 Train Accuracy: 95.83333333333334\n",
      "Cost:  0.03861234508915605 Train Accuracy: 95.0\n",
      "Cost:  0.060251106735342064 Train Accuracy: 92.5\n",
      "Cost:  0.026645497942811833 Train Accuracy: 90.83333333333333\n",
      "Cost:  0.04056296788335317 Train Accuracy: 94.16666666666667\n",
      "Cost:  0.03515277029475599 Train Accuracy: 91.66666666666666\n",
      "Cost:  0.04538161298694605 Train Accuracy: 95.0\n",
      "Cost:  0.04311577272472267 Train Accuracy: 95.0\n",
      "Cost:  0.032950861935027706 Train Accuracy: 95.0\n",
      "Cost:  0.045931772905006045 Train Accuracy: 94.16666666666667\n",
      "Cost:  0.03895813802977159 Train Accuracy: 96.66666666666667\n",
      "Cost:  0.03969418353841007 Train Accuracy: 95.83333333333334\n",
      "Cost:  0.05196038520965139 Train Accuracy: 96.66666666666667\n",
      "Cost:  0.03884469149820243 Train Accuracy: 95.0\n",
      "Cost:  0.037304631678139064 Train Accuracy: 94.16666666666667\n",
      "Cost:  0.03425448968637068 Train Accuracy: 95.83333333333334\n",
      "Cost:  0.04165041327248323 Train Accuracy: 94.16666666666667\n",
      "Cost:  0.046949302805528635 Train Accuracy: 91.66666666666666\n",
      "Cost:  0.03951094068692684 Train Accuracy: 95.83333333333334\n",
      "Cost:  0.038230797417698484 Train Accuracy: 95.83333333333334\n",
      "Cost:  0.04914044898318383 Train Accuracy: 94.16666666666667\n",
      "Cost:  0.043377790122491135 Train Accuracy: 95.0\n",
      "Cost:  0.03495218504587035 Train Accuracy: 94.16666666666667\n",
      "Cost:  0.033585974140492365 Train Accuracy: 96.66666666666667\n",
      "Cost:  0.04372915646840681 Train Accuracy: 95.83333333333334\n",
      "Cost:  0.04341587979230033 Train Accuracy: 100.0\n"
     ]
    }
   ],
   "source": [
    "mln = MLN(layers_dims, dropout_probs)\n",
    "mln.fit(train_x, train_y, learning_rate=0.1, n_iterations=10000)"
   ]
  },
  {
   "cell_type": "markdown",
   "metadata": {},
   "source": [
    "### Step 6: Output both the training and testing accuracy"
   ]
  },
  {
   "cell_type": "code",
   "execution_count": 6,
   "metadata": {},
   "outputs": [
    {
     "name": "stdout",
     "output_type": "stream",
     "text": [
      "Train Accuracy: 93.33333333333333\n",
      "Test Accuracy: 93.33333333333333\n"
     ]
    }
   ],
   "source": [
    "print(\"Train Accuracy:\", mln.predict(train_x, train_y))\n",
    "print(\"Test Accuracy:\", mln.predict(test_x, test_y))"
   ]
  },
  {
   "cell_type": "markdown",
   "metadata": {},
   "source": [
    "### Step 7: Display plot"
   ]
  },
  {
   "cell_type": "code",
   "execution_count": 7,
   "metadata": {},
   "outputs": [
    {
     "data": {
      "image/png": "[encoded data removed]",
      "text/plain": [
       "<Figure size 432x288 with 1 Axes>"
      ]
     },
     "metadata": {
      "needs_background": "light"
     },
     "output_type": "display_data"
    }
   ],
   "source": [
    "mln.plot_cost()"
   ]
  }
 ],
 "metadata": {
  "kernelspec": {
   "display_name": "Python 3",
   "language": "python",
   "name": "python3"
  },
  "language_info": {
   "codemirror_mode": {
    "name": "ipython",
    "version": 3
   },
   "file_extension": ".py",
   "mimetype": "text/x-python",
   "name": "python",
   "nbconvert_exporter": "python",
   "pygments_lexer": "ipython3",
   "version": "3.8.3"
  }
 },
 "nbformat": 4,
 "nbformat_minor": 4
}
